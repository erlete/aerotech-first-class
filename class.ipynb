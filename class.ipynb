{
 "cells": [
  {
   "cell_type": "markdown",
   "metadata": {},
   "source": [
    "# Bienvenid@\n",
    "\n",
    "Esta será la primera clase del Curso de Programación en Python Intermedio-Avanzado para Aerotech 2024/2025.\n",
    "\n",
    "Para superar el curso deberás completar todos y cada uno de los cuadros de código siguiendo las indicaciones pertinentes presentes en este documento (Jupyter Notebook).\n",
    "\n",
    "Al final del curso deberás entregar el Notebook junto a cualquier tarea adicional que haya sido indicada por los organizadores.\n",
    "\n",
    "## Recomendaciones (**obligaciones**, pero dicho de manera suave):\n",
    "* Escribe el código y la documentación del mismo en inglés. Si tienes dificultades, notifícaselo a los responsables del curso\n",
    "* Mantén el código legible\n",
    "* Redacta la documentación debidamente\n",
    "* Nombra los archivos, clases, funciones, atributos y variables de acuerdo con los estándares del lenguaje\n",
    "* Pregunta todas tus dudas, no tengas vergüenza. Recuerda que *no existen las preguntas tontas, solo tontos que no preguntan*\n",
    "* Evita copiar código directamente de internet. Uno siempre piensa que no, pero en realidad es un cantazo\n",
    "* No confundas el no copiar código con no investigar; StackOverflow, Reddit y las documentaciones oficiales están ahí porque funcionan\n",
    "* Tampoco confundas el investigar con aprender. Si no te peleas para intentar entender las cosas por tu cuenta, de poco sirven este tipo de cursos\n",
    "* Ante todo, ¡disfruta! Y si no disfrutas, no pasa absolutamente nada: el mundo siempre necesitará gente que programe en Java\n",
    "\n",
    "## ¿Cuál es el perfil deseado para este curso?\n",
    "\n",
    "Esta puede ser una pregunta fácilmente abrumadora, pero se puede dar respuesta a la misma de manera bastante sencilla. Marca las afirmaciones con las que te sientas identificad@, compara las que hayas respondido sí frente al total y obtendrás la nota de afinidad con los contenidos de este curso. Cuanto más alta sea, más sencillos te resultarán los contenidos, pero recuerda, no hay diferencia que no se compense con un mayor esfuerzo.\n",
    "\n",
    "| Afirmación | Sí | No |\n",
    "| :------: | :-: | :-: |\n",
    "| <div class=\"limiter\">Has desarrollado programas en Python por cuenta propia, sin ser un encargo o tarea de terceros</div> | <input name=\"1\" type=\"radio\"> | <input name=\"1\" type=\"radio\"> |\n",
    "| <div class=\"limiter\">Has explorado el potencial de Python en términos de paradigmas de computación y aplicaciones directas de la vida real</div> | <input name=\"2\" type=\"radio\"> | <input name=\"2\" type=\"radio\"> |\n",
    "| <div class=\"limiter\">Has interacturado con librerías de Python más allá de la biblioteca estándar</div> | <input name=\"3\" type=\"radio\"> | <input name=\"3\" type=\"radio\"> |\n",
    "| <div class=\"limiter\">Has creado un paquete o librería usando Python</div> | <input name=\"4\" type=\"radio\"> | <input name=\"4\" type=\"radio\"> |\n",
    "| <div class=\"limiter\">Has distribuido un paquete, librería o herramienta desarrollada en Python (mediante PyPI, Git...)</div> | <input name=\"5\" type=\"radio\"> | <input name=\"5\" type=\"radio\"> |\n",
    "| <div class=\"limiter\">Conoces métodos avanzados de manipulación de clases (herencia múltiple, mixins, métodos estáticos y de clase, dunders, metaclases...)</div> | <input name=\"6\" type=\"radio\"> | <input name=\"6\" type=\"radio\"> |\n",
    "| <div class=\"limiter\">Has desarrollado herramientas de ámbito concreto (simulación, desarrollo web, interfaces, comunicaciones...)</div> | <input name=\"7\" type=\"radio\"> | <input name=\"7\" type=\"radio\"> |\n",
    "| <div class=\"limiter\">Conoces el tipado en Python, así como convenciones generales de documentación. Indicas tipos y documentas correctamente tu código</div> | <input name=\"8\" type=\"radio\"> | <input name=\"8\" type=\"radio\"> |\n",
    "| <div class=\"limiter\">Has obtenido, manipulado y/o transformado información en grandes cantidades usando Python</div> | <input name=\"9\" type=\"radio\"> | <input name=\"9\" type=\"radio\"> |\n",
    "| <div class=\"limiter\">Tienes facilidad para realizar una instalación completa de una versión de Python con un conjunto de librerías determinadas</div> | <input name=\"10\" type=\"radio\"> | <input name=\"10\" type=\"radio\"> |\n",
    "\n",
    "<style>\n",
    "input[type='radio'] {\n",
    "    accent-color: #fafa;\n",
    "}\n",
    "\n",
    ".limiter {\n",
    "    max-width: 400px;\n",
    "}\n",
    "</style>\n",
    "\n",
    "## Recursos\n",
    "\n",
    "A continuación se te adjuntará una lista de recursos, considerados de conocimiento general (o derivados del mismo) a un nivel intermedio-avanzado de Python, pero que por flexibilidad podemos considerar como no tan obvios. A lo largo de la clases encontrarás múltiples referencias a estos recursos. Recuerda volver a esta sección e investigar en caso de que te sientas perdid@:\n",
    "\n",
    "### Guías\n",
    "\n",
    "* [PEP8.org](https://pep8.org) - Estándares de estilo, documentación y formato para el desarrollo en Python.\n",
    "* [Google Styleguide for Python](https://google.github.io/styleguide/pyguide.html) - Guía de estilo y formato de documentación para el desarrollo en Python.\n",
    "\n",
    "### Plataformas\n",
    "\n",
    "* [PyPI.org](https://pypi.org) - Distribución estándar de paquetes desarrollados por y/o para Python.\n",
    "* [GitHub](https://github.com/) - Plataforma para desarrolladores de software, completamente integrada con Git, con inmensas facilidades para todo tipo de desarrollo.\n",
    "* [GitLab](https://about.gitlab.com/) - Plataforma semejante a GitHub, con sus propias ventajas. Principalmente orientado a empresas.\n",
    "\n",
    "### Software\n",
    "\n",
    "* [Visual Studio Code](https://code.visualstudio.com/) - Editor de código flexible, altamente personalizable y expansible.\n",
    "* [Sublime Text](https://www.sublimetext.com/) - Editor de código semejante a VSCode, con una comunidad robusta detrás.\n",
    "* [Atom](https://atom-editor.cc/) - Editor de código completamente hackeable.\n",
    "* [Git](https://git-scm.com/) - Sistema de control de versiones distibuido, utilizado para llevar un histórico de cambios en proyectos.\n",
    "\n",
    "### Paquetes\n",
    "\n",
    "* [`flake8`](https://pypi.org/project/flake8/) - Linter y formateador de código.\n",
    "* [`autopep8`](https://pypi.org/project/autopep8/) - Linter y formateador de código.\n",
    "* [`pycodestyle`](https://pypi.org/project/pycodestyle/) - Linter y formateador de código.\n",
    "* [`pydocstyle`](https://pypi.org/project/pydocstyle/) - Linter y formateador de documentación.\n",
    "* [`mypy`](https://pypi.org/project/mypy/) - Linter y formateador de código, documentación y tipado.\n",
    "\n",
    "### Soporte adicional\n",
    "\n",
    "* [Perfil de VSCode preconfigurado para el desarrollo en Python](https://gist.github.com/erlete/c86cb219cabf55bf202d85ea66c11995)"
   ]
  },
  {
   "cell_type": "markdown",
   "metadata": {},
   "source": [
    "## S1: Impresiones en pantalla y manipulación de strings\n",
    "\n",
    "Una parte fundamental del desarrollo en cualquier lenguaje de programación es la capacidad de mostrar datos en pantalla. En Python, esto se realiza mediante la función `print(<contenido>)`. El contenido de esta función puede ser prácticamente cualquier cosa: texto, números, variables, expresiones, etc. Sin embargo, es muy util conocer las herramientas de creación y manipulación de strings para poder darle un significado relevante a los datos, esto es, convertirlos en información."
   ]
  },
  {
   "cell_type": "markdown",
   "metadata": {},
   "source": [
    "### E1.1: Impresión de un string en pantalla\n",
    "\n",
    "Realiza la impresión del string \"Hola, mundo\" en pantalla."
   ]
  },
  {
   "cell_type": "code",
   "execution_count": 1,
   "metadata": {},
   "outputs": [],
   "source": [
    "# Your code goes here:\n"
   ]
  },
  {
   "cell_type": "markdown",
   "metadata": {},
   "source": [
    "Dando un paso más allá en el mundo de los strings, existen los format strings, que permiten, con una sintaxis simple, llevar a cabo tareas de inserción de datos de manera controlada dentro del propio string. A continuación se muestra un ejemplo de un format string:\n",
    "\n",
    "```python\n",
    "nombre = \"Juan\"\n",
    "edad = 25\n",
    "print(f\"Mi nombre es {nombre} y tengo {edad} años\")\n",
    "```"
   ]
  },
  {
   "cell_type": "markdown",
   "metadata": {},
   "source": [
    "### E1.2: Impresión de un format string en pantalla\n",
    "\n",
    "A partir de la lista definida a continuación, imprime en pantalla los tres primeros valores separados por comas, y por último, la suma de todos los valores. Básate en el siguiente ejemplo:\n",
    "\n",
    "```python\n",
    "print(f\"<primer valor>, <segundo valor>, <tercer valor>, <suma de todos los valores>\")\n",
    "```\n",
    "\n",
    "Deberás realizar la suma utilizando una única función, directamente desde el format string, no crees variables adicionales."
   ]
  },
  {
   "cell_type": "code",
   "execution_count": 2,
   "metadata": {},
   "outputs": [],
   "source": [
    "valores = [1, 2, 3, -1, 24, 36.5]\n",
    "\n",
    "# Your code goes here:\n"
   ]
  },
  {
   "cell_type": "markdown",
   "metadata": {},
   "source": [
    "## S2: Lectura de ficheros\n",
    "\n",
    "Otra tarea fundamental en el desarrollo de software es la lectura y escritura de ficheros. En Python, esto se realiza mediante la función `open(<ruta>, <modo>)`. El modo puede ser de lectura (`r`), escritura (`w`), agregación (`a`) y otros tantos que no nos resultan relevantes por el momento. A continuación se muestra un ejemplo de lectura de un fichero:\n",
    "\n",
    "```python\n",
    "with open(\"ruta/al/fichero.txt\", mode=\"r\", encoding=\"utf-8\") as fp:\n",
    "    contenido = fp.read()  # ¡El valor devuelto es de tipo string!\n",
    "\n",
    "print(contenido)\n",
    "```\n",
    "\n",
    "El bloque `with` simplemente es un generador de contexto. Ejecuta la acción de apertura del archivo, las instrucciones que contiene el bloque y cierra el archivo independientemente de si todo sale bien o hay errores. Esto es realmente importante debido a que, si no se cierra el archivo, se pueden producir bloqueos de memoria y desperdicio de recursos."
   ]
  },
  {
   "cell_type": "markdown",
   "metadata": {},
   "source": [
    "### E2.1: Apertura y lectura de un fichero\n",
    "\n",
    "Abre el fichero localizado en `data/txt/sample.txt` y muestra su contenido en pantalla. A continuación, haz que todo el contenido del fichero se muestre con los espacios reemplazados por el caracter `_`. Del mismo modo, reemplaza los saltos de línea por el caracter `|`. Vuelve a mostrar el contenido modificado en pantalla al finalizar."
   ]
  },
  {
   "cell_type": "code",
   "execution_count": 3,
   "metadata": {},
   "outputs": [],
   "source": [
    "# Your code goes here:"
   ]
  },
  {
   "cell_type": "markdown",
   "metadata": {},
   "source": [
    "A menudo los datos que recibimos no están en formatos conocidos o con los que estemos familiarizados, pero afortunadamente esto es un curso y las condiciones son ideales. Es muy probable que el formato de archivo JSON (*JavaScript Object Notation*) te resulte familiar, pero si no es así, no te preocupes, a continuación se muestra un ejemplo de archivo JSON:\n",
    "\n",
    "```json\n",
    "{\n",
    "    \"nombre\": \"Juan\",\n",
    "    \"edad\": 25,\n",
    "    \"aficiones\": [\"programar\", \"leer\", \"jugar a videojuegos\"]\n",
    "}\n",
    "```\n",
    "\n",
    "Otro ejemplo con una lista:\n",
    "\n",
    "```json\n",
    "[\n",
    "    {\n",
    "        \"nombre\": \"Juan\",\n",
    "        \"edad\": 25,\n",
    "        \"aficiones\": [\"programar\", \"leer\", \"jugar a videojuegos\"]\n",
    "    },\n",
    "    {\n",
    "        \"nombre\": \"María\",\n",
    "        \"edad\": 23,\n",
    "        \"aficiones\": [\"leer\", \"jugar a videojuegos\"]\n",
    "    }\n",
    "]\n",
    "```\n",
    "\n",
    "Como se puede apreciar, la sintaxis es sencilla, pues se trata de combinaciones de listas, diccionarios y pares clave-valor. Conociendo esta condición, resulta bastante evidente que debe existir algún tipo de herramienta que permita leer archivos JSON y transformarlos directamente en un `dict`, y así es, se trata del módulo `json`."
   ]
  },
  {
   "cell_type": "markdown",
   "metadata": {},
   "source": [
    "### E2.2: Lectura de un archivo JSON\n",
    "\n",
    "Lee el archivo `data/json/sample.json` directamente usando el módulo `json` y muestra en pantalla el contenido del archivo. Imprime también en pantalla el tipo de dato del contenido leído."
   ]
  },
  {
   "cell_type": "code",
   "execution_count": 4,
   "metadata": {},
   "outputs": [],
   "source": [
    "# Your code goes here:"
   ]
  },
  {
   "cell_type": "markdown",
   "metadata": {},
   "source": [
    "### E2.3: Modificación y escritura del archivo JSON\n",
    "\n",
    "A partir del archivo `data/json/sample.json`, genera un identificador nuevo para cada una de las entradas a partir de los valores de **todas** sus claves (salvo la de `id`). A continuación, reemplaza el contenido de la clave `id` con el nuevo valor generado. Recuerda que deberás hacer esto para cada entrada del JSON. Finalmente, escribe el contenido modificado en un nuevo archivo llamado `data/out/sample-mod.json`."
   ]
  },
  {
   "cell_type": "code",
   "execution_count": 5,
   "metadata": {},
   "outputs": [],
   "source": [
    "# Your code goes here:\n"
   ]
  },
  {
   "cell_type": "markdown",
   "metadata": {},
   "source": [
    "### E2.4: Filtrado de información\n",
    "\n",
    "Este ejercicio es un poco complicado, no te voy a mentir, pero sé que puedes con ello. Para que se entienda mejor, voy a poner el enunciado bien clarito:\n",
    "\n",
    "* Lee el archivo `data/json/full.json`\n",
    "* Define el contenido de 3 listas distintas, cada una de ellas siguiendo los siguientes criterios:\n",
    "    * `best`: 15% de las entradas del documento que tengan el valor de la clave `rating` más alto, ordenadas de mayor a menor.\n",
    "    * `worst`: 5% de las entradas del documento que tengan el valor de la clave `rating` más bajo, ordenadas de menor a mayor.\n",
    "    * `optimal`: 2% de las entradas del documento que tengan la mejor calidad-precio, pero solo para valoraciones superiores a la media de `rating` de los resultados contenidos en `best`, ordenadas de mejor a peor."
   ]
  },
  {
   "cell_type": "code",
   "execution_count": 6,
   "metadata": {},
   "outputs": [],
   "source": [
    "# Your code goes here:"
   ]
  },
  {
   "cell_type": "markdown",
   "metadata": {},
   "source": [
    "## S3: Años, meses, días, horas, minutos, segundos y todo lo que sigue\n",
    "\n",
    "Una utilidad general que se puede aplicar a distintos ámbitos del desarrollo es la medición del tiempo o la indicación de fechas, tratamiento de las mismas, etc. En este curso no profundizaremos en cómo manipular datos temporales, puesto que añadiría bastante complejidad a cambio de poca experiencia general. En lo que sí que nos centraremos es en saber cómo obtener la fecha y hora actual, cómo formatearla y cómo trabajar con ella.\n",
    "\n",
    "La librería estándar para la manipulación de fechas y horas en Python es `datetime`. Asimismo, para las mediciones de tiempo, se utiliza la librería `time`. A continuación se muestra un ejemplo de cómo obtener la fecha y hora actual:\n",
    "\n",
    "```python\n",
    "from datetime import datetime\n",
    "\n",
    "fecha_actual = datetime.now()\n",
    "print(f\"La fecha y hora actual es {fecha_actual}\")\n",
    "```"
   ]
  },
  {
   "cell_type": "markdown",
   "metadata": {},
   "source": [
    "### E3.1: Obtención de la fecha y hora tras un tiempo determinado\n",
    "\n",
    "En este ejercicio deberás obtener la fecha y hora actual, para posteriormente añadirle un delta temporal y obtener la fecha resultante de la operación. Imprime el resultado en pantalla."
   ]
  },
  {
   "cell_type": "code",
   "execution_count": 7,
   "metadata": {},
   "outputs": [],
   "source": [
    "# Your code goes here:\n"
   ]
  },
  {
   "cell_type": "markdown",
   "metadata": {},
   "source": [
    "### E3.2: Medición del tiempo de ejecución de un bloque de código\n",
    "\n",
    "***Aviso: el ejercicio de medición de tiempos de ejecución es conocido como benchmarking. Este ejercicio constituye una aproximación a esta técnica, pero para realizarla debidamente es necesario tener en consideración los stacks de ejecución y memoria, carga de trabajo del sistema, hilos en ejecución, etc. No obstante, para los propósitos de este curso, este ejercicio es suficiente.***\n",
    "\n",
    "Crea una lista que contenga los números del 1 al 100_000_000 elevados al cuadrado. En este primer ejemplo, deberás definir una lista vacía e introducir uno a uno los valores especificados. Mide el tiempo de ejecución desde la creación de la lista hasta el final de la misma. Imprime el tiempo de ejecución en pantalla. A continuación, realiza el mismo ejercicio, pero utilizando una comprensión de listas. Mide el tiempo de ejecución y compáralo con el anterior."
   ]
  },
  {
   "cell_type": "code",
   "execution_count": 8,
   "metadata": {},
   "outputs": [],
   "source": [
    "# Your code goes here:"
   ]
  },
  {
   "cell_type": "markdown",
   "metadata": {},
   "source": [
    "## S4: Funciones, funciones con argumentos y funciones con funciones como argumentos\n",
    "\n",
    "Las funciones en Python son una herramienta muy potente, pues ofrecen mucha (incluso demasiada) flexibilidad en cuanto a entradas y salidas. Pueden recibir cero o múltiples argumentos, definidos específicamente en el cuerpo de la función o bien definidos de manera genérica. También soportan pares clave-valor y valores predefinidos para determinados argumentos. En casos especialmente útiles, las funciones pueden recibir otras funciones como argumentos, lo que permite una gran flexibilidad en el desarrollo de software. Este tipo de funciones son conocidas como decoradores, puesto que \"desbloquean\" una sintaxis especial que permite adherirlas a otras funciones, haciendo que su ejecución siempre esté ligada."
   ]
  },
  {
   "cell_type": "markdown",
   "metadata": {},
   "source": [
    "### E4.1: Función con argumentos definidos y por defecto\n",
    "\n",
    "Crea una función llamada `sum_two` (original, lo sé) que reciba dos argumentos numéricos, `a` y `b`. El argumento `b` deberá tener un valor por defecto de `0`. El valor por defecto debe estar indicado en la cabecera de la función, permitiendo que esta sea llamada de las siguientes maneras: `sum_two(a, b)` y `sum_two(a)`. "
   ]
  },
  {
   "cell_type": "code",
   "execution_count": 9,
   "metadata": {},
   "outputs": [],
   "source": [
    "# Your code goes here:\n"
   ]
  },
  {
   "cell_type": "markdown",
   "metadata": {},
   "source": [
    "### E4.2: Función con argumentos variables\n",
    "\n",
    "Crea una función que reciba un número ilimitado de argumentos numéricos. Deberás devolver una lista con la suma acumulada de los argumentos recibidos. La función deberá llamarse `acc_sum`."
   ]
  },
  {
   "cell_type": "code",
   "execution_count": 10,
   "metadata": {},
   "outputs": [],
   "source": [
    "# Your code goes here:\n"
   ]
  },
  {
   "cell_type": "markdown",
   "metadata": {},
   "source": [
    "### E4.3: Función cronómetro\n",
    "\n",
    "Crea una función llamada `timer` que reciba otra función como argumento y un número indefinido de argumentos. La función deberá llamar a la función recibida con los argumentos recibidos y medir el tiempo de ejecución de la misma. Devuelve una tupla cuyo primer elemento sea la salida de la función ejecutada y el segundo elemento sea el tiempo de ejecución. El tiempo deberá ser medido hasta precisión de nanosegundos (revisa las funciones de la librería `time`).\n",
    "\n",
    "Como función de ejemplo para pasar como argumento podrás usar la función de `fibonacci` definida a continuación:"
   ]
  },
  {
   "cell_type": "code",
   "execution_count": 11,
   "metadata": {},
   "outputs": [],
   "source": [
    "# Fibonacci example function (do not modify):\n",
    "\n",
    "def fibonacci(n):\n",
    "    if n == 0:\n",
    "        return 0\n",
    "    elif n == 1:\n",
    "        return 1\n",
    "    else:\n",
    "        return fibonacci(n - 1) + fibonacci(n - 2)\n",
    "\n",
    "# Your code goes here:\n"
   ]
  },
  {
   "cell_type": "markdown",
   "metadata": {},
   "source": [
    "### E4.4: Función wrapper con capacidad de personalización\n",
    "\n",
    "Este ejercicio es una refactorización del anterior. En este caso, deberás crear una función llamadada `logger` que reciba como argumentos una función, un número ilimitado de argumentos y tres argumentos clave-valor: `print_time`, `start_message` y `end_message`, que deberán tener los valores por defecto `False`, `None` y `None`, respectivamente. El objetivo de esta función es el mismo que en el ejercicio anterior, pero en este caso únicamente se devolverá el resultado de la función ejecutada. Si `print_time` es `True`, se imprimirá en pantalla el tiempo de ejecución de la función. Si `start_message` no es `None`, se imprimirá en pantalla el mensaje indicado antes de ejecutar la función. Si `end_message` no es `None`, se imprimirá en pantalla el mensaje indicado después de ejecutar la función.\n",
    "\n",
    "Puedes usar la función de `fibonacci` definida previamente como función de ejemplo."
   ]
  },
  {
   "cell_type": "code",
   "execution_count": 12,
   "metadata": {},
   "outputs": [],
   "source": [
    "# Fibonacci example function (do not modify):\n",
    "\n",
    "def fibonacci(n):\n",
    "    if n == 0:\n",
    "        return 0\n",
    "    elif n == 1:\n",
    "        return 1\n",
    "    else:\n",
    "        return fibonacci(n - 1) + fibonacci(n - 2)\n",
    "\n",
    "# Your code goes here:\n"
   ]
  },
  {
   "cell_type": "markdown",
   "metadata": {},
   "source": [
    "Las funciones decoradoras son aquellas que reciben como argumento otra función, eso ya lo sabemos. Lo que no sabemos aún es como \"ligar\" la ejecución de una función determinada al decorador pertinente. Para ello, se utiliza la sintaxis `@<nombre del decorador>` justo encima de la definición de la función a decorar. A continuación se muestra un ejemplo de decorador:\n",
    "\n",
    "```python\n",
    "import functools\n",
    "\n",
    "def decorador(funcion):  # Función principal, llamada como decorador.\n",
    "    \n",
    "    @functools.wraps(funcion)  # Indicador de decorador (buena práctica).\n",
    "    def wrapper(*args, **kwargs):  # Cabecera de la función decoradora, con argumentos variables.\n",
    "        return funcion(*args, **kwargs)  # Llamada a la función original.\n",
    "\n",
    "    return wrapper  # Devolución de la función decoradora.\n",
    "```\n",
    "\n",
    "Para denotar que estamos creando una función decoradora, se hace uso de un decorador (confuso, lo sé) de la librería estándar de Python, llamado `functools.wraps`. Este decorador se encarga de copiar los metadatos de la función original a la función decoradora, lo que permite que la función decoradora se comporte de manera similar a la función original.\n",
    "\n",
    "La llamada al decorador se realiza de la siguiente manera:\n",
    "\n",
    "```python\n",
    "@decorador\n",
    "def funcion_a_decorar():\n",
    "    pass\n",
    "```\n",
    "\n",
    "De este modo, cada vez que se llame a `funcion_a_decorar`, en realidad se estará llamando a `decorador(funcion_a_decorar)`.\n",
    "\n",
    "Cabe destacar que si se quisiera personalizar el decorador, de modo que lo pudiéramos llamar con argumentos (`@decorador(arg1, arg2)`), deberíamos encapsular el decorador en otra función que devuelva el decorador original. A continuación se muestra un ejemplo de decorador personalizado:\n",
    "\n",
    "```python\n",
    "def decorador_personalizado(arg1, arg2):\n",
    "    \n",
    "    def decorador(funcion):\n",
    "        \n",
    "        @functools.wraps(funcion)\n",
    "        def wrapper(*args, **kwargs):\n",
    "            return funcion(*args, **kwargs)\n",
    "        \n",
    "        return wrapper\n",
    "    \n",
    "    return decorador\n",
    "\n",
    "@decorador_personalizado(arg1, arg2)\n",
    "def funcion_a_decorar():\n",
    "    pass\n",
    "```\n",
    "\n",
    "De este modo, los valores de `arg1` y `arg2` estarían disponibles en toda la jerarquía de funciones, permitiendo realizar acciones relevantes sobre los resultados."
   ]
  },
  {
   "cell_type": "markdown",
   "metadata": {},
   "source": [
    "### E4.5: Decorador formal\n",
    "\n",
    "Este ejercicio es otro ejercicio difícil, por lo que vamos a intentar desglosarlo lo máximo posible.\n",
    "\n",
    "En este caso deberás llevar un paso más allá el ejercicio anterior y crear una función decoradora que permita recibir los tres argumentos anteriores, `print_time=False`, `start_message=None` y `end_message=None`, y devuelva una función decoradora que, a su vez, reciba una función y devuelva una función decorada. La función decorada deberá imprimir en pantalla el mensaje `start_message` antes de ejecutar la función, ejecutar la función y devolver el resultado, y finalmente imprimir en pantalla el mensaje `end_message` después de ejecutar la función. Si `print_time` es `True`, se imprimirá en pantalla el tiempo de ejecución de la función.\n",
    "\n",
    "Cuando hayas desarrollado dicha función, decora la función de `fibonacci` proporcionada y ejecútala con los argumentos que quieras para probar su funcionamiento. Recuerda anotar debidamente la función decoradora con `functools.wraps`."
   ]
  },
  {
   "cell_type": "code",
   "execution_count": 13,
   "metadata": {},
   "outputs": [],
   "source": [
    "# Your code goes here:\n",
    "\n",
    "# Fibonacci example function (do not modify):\n",
    "\n",
    "def fibonacci(n):\n",
    "    if n == 0:\n",
    "        return 0\n",
    "    elif n == 1:\n",
    "        return 1\n",
    "    else:\n",
    "        return fibonacci(n - 1) + fibonacci(n - 2)"
   ]
  },
  {
   "cell_type": "markdown",
   "metadata": {},
   "source": [
    "## S5: Clases: las madres de todo objeto en Python... ¿y también de sí mismas?\n",
    "\n",
    "Las clases en Python son un concepto fundamental, pues permiten la creación de objetos y la definición de métodos y atributos que los caracterizan. En Python, todo es un objeto, incluso las clases, lo que permite una flexibilidad y una potencia en el desarrollo de software que no se encuentra en otros lenguajes de programación.\n",
    "\n",
    "En este curso exploraremos conceptos relativamente avanzaos de clases, como la herencia múltiple, los métodos estáticos y de clase y los métodos mágicos (dunders). Por el bien del curso, vamos a asumir que ya conoces los conceptos básicos de clases y objetos en Python, así como la definición de métodos y atributos. Si no es así, no te preocupes, siempre puedes preguntar."
   ]
  },
  {
   "cell_type": "markdown",
   "metadata": {},
   "source": [
    "### E5.1: Creación de una clase básica\n",
    "\n",
    "Crea una clase llamada `Drone`, que contenga los siguientes atributos:\n",
    "\n",
    "* `id`: un identificador único para cada dron.\n",
    "* `battery`: un valor numérico que indique la cantidad de batería restante en el dron.\n",
    "* `position`: una tupla de dos valores numéricos que indique la posición del dron en un plano cartesiano.\n",
    "* `speed`: un valor numérico que indique la velocidad de desplazamiento del dron.\n",
    "\n",
    "A su vez, deberás definir una serie de métodos de instancia:\n",
    "\n",
    "* `__init__(self, id: int, battery: float, position: Tuple[float, float], speed: float)`: constructor de la clase.\n",
    "* `move(self, x: float, y: float)`: método que desplaza el dron a una posición determinada.\n",
    "* `charge(self, battery: float)`: método que recarga la batería del dron.\n",
    "* `__str__(self)`: método que devuelve una representación en string del dron extendida, indicando todos los valores de sus atributos con sus unidades.\n",
    "* `__repr__(self)`: método que devuelve una representación en string del dron reducida (`id` y `posición` con sus unidades)."
   ]
  },
  {
   "cell_type": "code",
   "execution_count": 14,
   "metadata": {},
   "outputs": [],
   "source": [
    "# Your code goes here:\n"
   ]
  },
  {
   "cell_type": "markdown",
   "metadata": {},
   "source": [
    "### E5.2: Creación de métodos de clase y estáticos\n",
    "\n",
    "En este ejercicio deberás añadir a la clase `Drone` dos métodos de clase y un método estático:\n",
    "\n",
    "* `from_json(cls, json: Dict[str, Any])`: método de clase que recibe un diccionario con los valores de los atributos de un dron y devuelve una instancia de la clase `Drone`.\n",
    "* `to_json(self)`: método de instancia que devuelve un diccionario con los valores de los atributos del dron.\n",
    "* `distance(cls, drone1: Drone, drone2: Drone)`: método estático que recibe dos instancias de la clase `Drone` y devuelve la distancia euclídea entre ambas."
   ]
  },
  {
   "cell_type": "code",
   "execution_count": 15,
   "metadata": {},
   "outputs": [],
   "source": [
    "# Your code goes here:"
   ]
  },
  {
   "cell_type": "markdown",
   "metadata": {},
   "source": [
    "### E5.3: Creación de un mixin\n",
    "\n",
    "Ahora deberás crear una clase que permita generar notificaciones en pantalla de los eventos de los drones. Para ello, crea una clase llamada `NotifierMixin` que contenga los siguientes métodos:\n",
    "\n",
    "* `notify(self, message: str)`: método que imprime en pantalla un mensaje de notificación.\n",
    "* `notify_move(self, x: float, y: float)`: método que imprime en pantalla un mensaje de notificación indicando la posición a la que se ha movido el dron.\n",
    "* `notify_charge(self, battery: float)`: método que imprime en pantalla un mensaje de notificación indicando la cantidad de batería recargada.\n",
    "\n",
    "Estas notificaciones deberán llamarse desde los métodos de instancia `move` y `charge` de la clase `Drone`. Adicionalmente, podrás añadir notificaciones adicionales donde creas conveniente.\n",
    "\n",
    "Los métodos de la clase `NotifierMixin` deberán ser métodos de instancia, puesto que se espera que se llamen desde instancias de la clase `Drone`."
   ]
  },
  {
   "cell_type": "code",
   "execution_count": 16,
   "metadata": {},
   "outputs": [],
   "source": [
    "# Your code goes here:\n"
   ]
  },
  {
   "cell_type": "markdown",
   "metadata": {},
   "source": [
    "### E5.4: Creación de una clase derivada y agregación de mixin\n",
    "\n",
    "Deberás crear una clase `FlyingVehicle` que contendrá los siguientes atributos:\n",
    "\n",
    "* `length`: un valor numérico que indique la longitud del vehículo.\n",
    "* `width`: un valor numérico que indique la anchura del vehículo.\n",
    "* `height`: un valor numérico que indique la altura del vehículo.\n",
    "* `weight`: un valor numérico que indique el peso del vehículo.\n",
    "\n",
    "También deberás crear los métodos de instancia que creas convenientes en esta clase. A continuación, redefine tu clase `Drone` para que herede de `FlyingVehicle` y agregue el mixin `NotifierMixin`. Asegúrate de que los métodos de instancia de `NotifierMixin` se llamen correctamente desde los métodos de instancia de `Drone`. Asegúrate también de inicializar debidamente la clase `FlyingVehicle` desde el constructor de la clase `Drone`."
   ]
  },
  {
   "cell_type": "code",
   "execution_count": 17,
   "metadata": {},
   "outputs": [],
   "source": [
    "# Your code goes here:"
   ]
  },
  {
   "cell_type": "markdown",
   "metadata": {},
   "source": [
    "### 5.5: Creación y utilización de dunders\n",
    "\n",
    "En este apartado deberás olvidarte del Dron para centrarte en la creación de una clase `Vector` que represente un vector en un espacio de dos dimensiones. La clase deberá contener los siguientes atributos:\n",
    "\n",
    "* `x`: un valor numérico que indique la componente x del vector.\n",
    "* `y`: un valor numérico que indique la componente y del vector.\n",
    "\n",
    "Además, deberás definir los siguientes métodos de instancia:\n",
    "\n",
    "* `__init__(self, x: float, y: float)`: constructor de la clase.\n",
    "* `__add__(self, other: Vector)`: método que permite sumar dos vectores.\n",
    "* `__sub__(self, other: Vector)`: método que permite restar dos vectores.\n",
    "* `__mul__(self, other: Union[float, Vector])`: método que permite multiplicar un vector por un escalar o por otro vector.\n",
    "* `__truediv__(self, other: float)`: método que permite dividir un vector por un escalar.\n",
    "* `__str__(self)`: método que devuelve una representación en string del vector."
   ]
  },
  {
   "cell_type": "code",
   "execution_count": 18,
   "metadata": {},
   "outputs": [],
   "source": [
    "# Your code goes here:\n"
   ]
  },
  {
   "cell_type": "markdown",
   "metadata": {},
   "source": [
    "## S6: Paquetes y distribución de los mismos para que la gente pueda criticar tu código\n",
    "\n",
    "Python no solo permite instalar paquetes de terceros, sino también crearlos. Como a los programadores nos gusta reinventar la rueda con la esperanza de poder mejorar el diseño a pesar de que no se puede, vamos a aprender a crear un paquete de Python.\n",
    "\n",
    "Los paquetes tienen una estructura definida que puede variar en función del proveedor utilizado, las herramientas necesarias, el ámbito de aplicación del propio paquete, etc. Sin embargo, existen estándares de diseño que permiten realizar esta tarea de manera continuada y fiable. En nuestro caso, vamos a usar el estándar de PyPI, el principal proveedor de paquetes del lenguaje.\n",
    "\n",
    "Un paquete está localizado en un directorio que a su vez contiene una configuración (`pyproject.toml`) con los metadatos del mismo, otros archivos de configuración adicionales, archivos de información y lo más importante, un directorio de código fuente (`src`). Este directorio contendrá otro directorio más con el nombre del paquete (debe ser el mismo que el especificado en el `pyproject.toml`), y dentro de él se encontrarán los archivos de código fuente del paquete.\n",
    "\n",
    "Consideraciones importantes:\n",
    "* Los directorios localizados dentro del directorio del paquete deberán contener siempre un archivo `__init__.py`, que es un indexador de módulos de Python.\n",
    "* Los archivos de código fuente deberán tener una extensión `.py` y deberán seguir las convenciones de estilo de Python.\n",
    "* Si se localiza un archivo `__main__.py` en el directorio del paquete, este será el archivo ejecutado en caso de que el paquete sea llamado directamente desde la línea de comandos. En caso de que este archivo no exista y se intente ejecutar el paquete, se lanzará un error."
   ]
  }
 ],
 "metadata": {
  "kernelspec": {
   "display_name": "Python 3",
   "language": "python",
   "name": "python3"
  },
  "language_info": {
   "codemirror_mode": {
    "name": "ipython",
    "version": 3
   },
   "file_extension": ".py",
   "mimetype": "text/x-python",
   "name": "python",
   "nbconvert_exporter": "python",
   "pygments_lexer": "ipython3",
   "version": "3.11.9"
  }
 },
 "nbformat": 4,
 "nbformat_minor": 2
}
